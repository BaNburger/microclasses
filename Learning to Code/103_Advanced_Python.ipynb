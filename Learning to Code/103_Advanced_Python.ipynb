{
 "cells": [
  {
   "cell_type": "markdown",
   "metadata": {},
   "source": [
    "# Advanced Python Techniques\n",
    "\n",
    "Welcome to the second part of your Python journey! In this notebook, we will explore object-oriented programming (OOP), error handling, and how to leverage some powerful Python libraries to enhance your projects. Let's dive into more complex but rewarding aspects of Python programming."
   ]
  },
  {
   "cell_type": "markdown",
   "metadata": {},
   "source": [
    "## Object-Oriented Programming (OOP)\n",
    "Object-oriented programming is a programming paradigm based on the concept of \"objects\", which can contain data in the form of fields (often known as attributes) and code, in the form of procedures (often known as methods).\n",
    "\n",
    "### Introduction to OOP\n",
    "OOP allows programmers to create objects that can interact in ways that are closer to real-world interactions, making programs easier to understand and manage.\n",
    "\n",
    "### Defining Classes and Objects"
   ]
  },
  {
   "cell_type": "code",
   "execution_count": null,
   "metadata": {},
   "outputs": [],
   "source": [
    "class Book:\n",
    "    def __init__(self, title, author, isbn):\n",
    "        self.title = title\n",
    "        self.author = author\n",
    "        self.isbn = isbn\n",
    "\n",
    "    def __str__(self):\n",
    "        return f\"{self.title} by {self.author}, ISBN: {self.isbn}\""
   ]
  },
  {
   "cell_type": "markdown",
   "metadata": {},
   "source": [
    "This class Book represents a book with a title, an author, and an ISBN. The __init__ method initializes the attributes, and the __str__ method provides a human-readable description of the object.\n",
    "\n",
    "## Inheritance and Polymorphism"
   ]
  },
  {
   "cell_type": "code",
   "execution_count": null,
   "metadata": {},
   "outputs": [],
   "source": [
    "class Novel(Book):\n",
    "    def __init__(self, title, author, isbn, genre):\n",
    "        super().__init__(title, author, isbn)\n",
    "        self.genre = genre\n",
    "\n",
    "    def __str__(self):\n",
    "        return f\"{super().__str__()} [Genre: {self.genre}]\""
   ]
  },
  {
   "cell_type": "markdown",
   "metadata": {},
   "source": [
    "Here, Novel is a subclass of Book that adds a genre attribute. It uses inheritance to reuse the code from Book and adds new functionality.\n",
    "\n",
    "## Error Handling\n",
    "Proper error handling is crucial for building reliable applications. Python provides several tools to handle and raise errors gracefully.\n",
    "\n",
    "### Basics of Exception Handling"
   ]
  },
  {
   "cell_type": "code",
   "execution_count": null,
   "metadata": {},
   "outputs": [],
   "source": [
    "try:\n",
    "    # Attempt to convert an input to an integer\n",
    "    user_input = int(input(\"Enter a number: \"))\n",
    "except ValueError:\n",
    "    print(\"Not a valid number!\")\n",
    "finally:\n",
    "    print(\"This block executes no matter what.\")"
   ]
  },
  {
   "cell_type": "markdown",
   "metadata": {},
   "source": [
    "This code attempts to convert a user's input into an integer and handles the case where the conversion could fail.\n",
    "\n",
    "## Raising Exceptions"
   ]
  },
  {
   "cell_type": "code",
   "execution_count": null,
   "metadata": {},
   "outputs": [],
   "source": [
    "def check_age(age):\n",
    "    if age < 0:\n",
    "        raise ValueError(\"Age cannot be negative\")\n",
    "    return age\n"
   ]
  },
  {
   "cell_type": "markdown",
   "metadata": {},
   "source": [
    "This function raises a ValueError if the provided age is negative, demonstrating how to enforce conditions explicitly.\n",
    "\n",
    "## Using Libraries and Modules\n",
    "Python's extensive standard library and third-party libraries can significantly speed up development time.\n",
    "\n",
    "### Importing Modules"
   ]
  },
  {
   "cell_type": "code",
   "execution_count": null,
   "metadata": {},
   "outputs": [],
   "source": [
    "import math\n",
    "print(math.sqrt(16))  # Outputs: 4.0"
   ]
  },
  {
   "cell_type": "markdown",
   "metadata": {},
   "source": [
    "This example shows how to import the math module and use one of its functions.\n",
    "\n",
    "## Popular Python Libraries\n",
    "- Requests: For making HTTP requests.\n",
    "- Pandas: For data manipulation and analysis.\n",
    "- Matplotlib: For creating static, animated, and interactive visualizations in Python.\n",
    "\n",
    "## Advanced Data Handling\n",
    "Handling data efficiently is key to writing high-performance Python applications.\n",
    "\n",
    "### Working with Files"
   ]
  },
  {
   "cell_type": "code",
   "execution_count": null,
   "metadata": {},
   "outputs": [],
   "source": [
    "with open('example.txt', 'r') as file:\n",
    "    content = file.read()\n",
    "print(content)"
   ]
  },
  {
   "cell_type": "markdown",
   "metadata": {},
   "source": [
    "This code snippet shows how to read from a file safely using Python's context manager.\n",
    "\n",
    "## Data Serialization"
   ]
  },
  {
   "cell_type": "code",
   "execution_count": null,
   "metadata": {},
   "outputs": [],
   "source": [
    "import json\n",
    "data = {\"name\": \"Alice\", \"age\": 30}\n",
    "json_string = json.dumps(data)\n",
    "print(json_string)"
   ]
  },
  {
   "cell_type": "markdown",
   "metadata": {},
   "source": [
    "This example demonstrates how to serialize a Python dictionary into a JSON string.\n",
    "\n",
    "## Practical Exercises\n",
    "- **Implement a class-based application**: Create a class `Library` that manages a collection of books.\n",
    "- **Error handling script**: Write a script that robustly handles file reading/writing operations.\n",
    "- **Data analysis with Pandas and Matplotlib**: Load a dataset, clean it, and visualize the results using a bar chart."
   ]
  },
  {
   "cell_type": "markdown",
   "metadata": {},
   "source": [
    "## Conclusion\n",
    "Congratulations on completing this advanced Python notebook! You've learned about OOP, error handling, and powerful libraries that make Python a top choice for developers around the world. Continue to practice these concepts and explore further to master Python programming."
   ]
  },
  {
   "cell_type": "markdown",
   "metadata": {},
   "source": [
    "Enhanced Practical Exercises for Advanced Python Techniques Notebook\n",
    "\n",
    "1. Class-Based Application: Library System\n",
    "\n",
    "We'll build a more detailed example for implementing a class-based application, like a library system that manages books. This will include methods for adding books, retrieving books by certain criteria, and removing books."
   ]
  },
  {
   "cell_type": "code",
   "execution_count": null,
   "metadata": {},
   "outputs": [],
   "source": [
    "class Library:\n",
    "    def __init__(self):\n",
    "        self.books = []\n",
    "\n",
    "    def add_book(self, book):\n",
    "        self.books.append(book)\n",
    "        print(f\"Added {book}\")\n",
    "\n",
    "    def find_books_by_author(self, author):\n",
    "        found_books = [book for book in self.books if book.author == author]\n",
    "        return found_books\n",
    "\n",
    "    def remove_book(self, isbn):\n",
    "        self.books = [book for book in self.books if book.isbn != isbn]\n",
    "        print(f\"Book with ISBN {isbn} has been removed.\")\n",
    "\n",
    "    def __str__(self):\n",
    "        return \"\\n\".join(str(book) for book in self.books)\n",
    "\n",
    "# Example usage:\n",
    "library = Library()\n",
    "library.add_book(Book(\"Python Programming\", \"John Doe\", \"123456789\"))\n",
    "library.add_book(Book(\"Advanced Python\", \"Jane Doe\", \"987654321\"))\n",
    "print(\"Books by John Doe:\", library.find_books_by_author(\"John Doe\"))\n",
    "library.remove_book(\"123456789\")\n",
    "print(\"Current Library Collection:\\n\", library)\n"
   ]
  },
  {
   "cell_type": "markdown",
   "metadata": {},
   "source": [
    "2. Error Handling Script\n",
    "\n",
    "We can develop this script to handle more specific file operations, such as attempting to open a file that doesn't exist and handling this gracefully with user feedback."
   ]
  },
  {
   "cell_type": "code",
   "execution_count": null,
   "metadata": {},
   "outputs": [],
   "source": [
    "def read_file(filename):\n",
    "    try:\n",
    "        with open(filename, 'r') as file:\n",
    "            return file.read()\n",
    "    except FileNotFoundError:\n",
    "        print(f\"Error: The file {filename} does not exist.\")\n",
    "    except Exception as e:\n",
    "        print(f\"An unexpected error occurred: {str(e)}\")\n",
    "\n",
    "# Example usage:\n",
    "content = read_file(\"nonexistentfile.txt\")"
   ]
  },
  {
   "cell_type": "markdown",
   "metadata": {},
   "source": [
    "3. Data Analysis with Pandas and Matplotlib\n",
    "\n",
    "Enhance this exercise to include data cleaning aspects, more complex analysis, and a multi-feature plot to provide deeper insights into the dataset."
   ]
  },
  {
   "cell_type": "code",
   "execution_count": null,
   "metadata": {},
   "outputs": [],
   "source": [
    "import pandas as pd\n",
    "import matplotlib.pyplot as plt\n",
    "\n",
    "def load_and_plot_data(filename):\n",
    "    df = pd.read_csv(filename)\n",
    "    # Data Cleaning\n",
    "    df.dropna(inplace=True)  # Remove any rows with missing values\n",
    "    # Simple Analysis\n",
    "    print(df.describe())\n",
    "    # Plotting\n",
    "    plt.figure(figsize=(10,5))\n",
    "    df['SomeColumn'].hist(bins=20)\n",
    "    plt.title('Histogram of SomeColumn')\n",
    "    plt.xlabel('Value')\n",
    "    plt.ylabel('Frequency')\n",
    "    plt.show()\n",
    "\n",
    "# Example usage:\n",
    "load_and_plot_data('data.csv')"
   ]
  }
 ],
 "metadata": {
  "language_info": {
   "name": "python"
  }
 },
 "nbformat": 4,
 "nbformat_minor": 2
}
