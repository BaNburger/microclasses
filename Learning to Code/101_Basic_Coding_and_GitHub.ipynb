{
  "nbformat": 4,
  "nbformat_minor": 0,
  "metadata": {
    "colab": {
      "provenance": [],
      "authorship_tag": "ABX9TyOElB92bcLoeo9rmEJTFO4v",
      "include_colab_link": true
    },
    "kernelspec": {
      "name": "python3",
      "display_name": "Python 3"
    },
    "language_info": {
      "name": "python"
    }
  },
  "cells": [
    {
      "cell_type": "markdown",
      "metadata": {
        "id": "view-in-github",
        "colab_type": "text"
      },
      "source": [
        "<a href=\"https://colab.research.google.com/github/BaNburger/microclasses/blob/main/Colab_and_Python_Introduction.ipynb\" target=\"_parent\"><img src=\"https://colab.research.google.com/assets/colab-badge.svg\" alt=\"Open In Colab\"/></a>"
      ]
    },
    {
      "cell_type": "code",
      "source": [],
      "metadata": {
        "id": "lVuEiHOh4T6_"
      },
      "execution_count": null,
      "outputs": []
    },
    {
      "cell_type": "markdown",
      "source": [
        "https://drive.google.com/drive/folders/15EfLi78crUmEBpOapSxL3YGq9zN1GJpY?usp=sharing\n",
        "\n",
        "# Welcome to the TUM Venture Lab Software & AI [VLSA] Introductory Colab\n",
        "\n",
        "Whenever we work with code at the Microclasses, our Technology Stack is:\n",
        "1. Google Colab\n",
        "2. Python\n",
        "3. Specific tools if the situation calls for them\n",
        "\n",
        "We promise you that you don't need to have any knowledge of any tools or code, but the more you know, the more you will be able to make out of the Microclasses contents.\n",
        "\n",
        "In this Colab, we will show you the basic concepts of **Google Colab** and **Python** so it is easier for you to follow along.\n",
        "\n",
        "\n",
        "\n",
        "\n",
        "---\n",
        "\n",
        "*Like all VLSA content, this file is free for any usage. We are dedicated to making entrepreneurs successful. You may use these contents for all purposes and free of charge.\n",
        "If you extend, adjust, or improve on any slide, we kindly ask you to share them with bastian.burger@tum-venture-labs.de so the community can benefit.*\n",
        "\n",
        "---\n"
      ],
      "metadata": {
        "id": "36YOWCnW--IE"
      }
    },
    {
      "cell_type": "markdown",
      "source": [
        "# Using Google Colab\n",
        "\n",
        "## Step 1: Introduction to Google Colab\n",
        "\n",
        "Google Colab, short for \"Google Colaboratory,\" is a free cloud-based platform that allows you to write and execute Python code in a Jupyter Notebook-like environment. It's a powerful tool for data science, machine learning, and collaborative coding projects.\n",
        "\n",
        "## Step 2: Accessing Google Colab\n",
        "\n",
        "To access Google Colab, you can visit the website at colab.research.google.com. You'll need a Google account to log in.\n",
        "\n",
        "## Step 3: Creating a New Notebook\n",
        "\n",
        "Once you're logged in, click on \"New Notebook\" to create a new notebook. This will open a fresh, untitled notebook in a new tab.\n",
        "\n",
        "## Step 4: Notebook Interface\n",
        "\n",
        "The notebook interface in Google Colab is similar to Jupyter Notebooks. It consists of cells, which can contain either code or text. You can add new cells by clicking the \"+ Code\" or \"+ Text\" buttons, or by using keyboard shortcuts like Ctrl+M B (for adding a new cell below the current one).\n",
        "\n",
        "## Step 5: Running Code\n",
        "\n",
        "In a code cell, you can write and run Python code. To execute a cell, you can press Shift+Enter, or click the Play button (▶) in the cell's top-left corner. Code execution happens on Google's servers, and you can see the output below the cell.\n",
        "\n",
        "## Step 6: Text Cells\n",
        "\n",
        "Text cells are used to write explanations, documentation, or notes. You can format text using Markdown. To run a text cell, just click inside it and press Shift+Enter.\n",
        "\n",
        "## Step 7: Saving Your Work\n",
        "\n",
        "Google Colab automatically saves your work to Google Drive, so there's no need to manually save the notebook. You can also download it as a Jupyter notebook (.ipynb) or various other formats.\n",
        "\n",
        "## Step 8: Hardware Acceleration\n",
        "\n",
        "Google Colab provides free access to Graphics Processing Units (GPUs) and Tensor Processing Units (TPUs) for faster computation. You can enable these accelerators by going to \"Runtime\" -> \"Change runtime type\" and selecting your preferred hardware accelerator.\n",
        "\n",
        "## Step 9: Collaboration and Sharing\n",
        "\n",
        "You can collaborate with others on the same notebook by sharing it with them. Click on the \"Share\" button in the top-right corner to generate a shareable link.\n",
        "\n",
        "## Step 10: Additional Libraries and Data\n",
        "\n",
        "You can install additional Python libraries and upload data files directly in Google Colab. Use commands like !pip install library_name to install libraries and the file upload feature for data.\n",
        "\n",
        "## Step 11: Getting Help\n",
        "\n",
        "If you need help or have questions, Google Colab provides a \"Help\" menu with access to documentation and keyboard shortcuts.\n",
        "\n",
        "This introduction covers the basic features of Google Colab, making it a powerful platform for coding, data analysis, and collaboration. Feel free to explore and experiment to make the most of this cloud-based Python environment.\n",
        "\n",
        "---"
      ],
      "metadata": {
        "id": "u9gChrFj-r17"
      }
    },
    {
      "cell_type": "markdown",
      "source": [
        "# Understanding Python: A Beginner's Guide\n",
        "\n",
        "Python is a popular programming language known for its simplicity and readability. It's a great choice for beginners just starting to explore the world of coding. In this guide, we'll cover some fundamental concepts to help you get started.\n",
        "\n",
        "##1. Printing Text: Hello, World!\n",
        "\n",
        "In Python, you can start by printing a simple message. The classic \"Hello, World!\" program is your first step:\n",
        "\n",
        "```\n",
        "print(\"Hello, World!\")\n",
        "```\n",
        "This code will display \"Hello, World!\" on your screen when executed.\n",
        "\n",
        "\n",
        "\n",
        "##2. Variables: Storing Information\n",
        "\n",
        "Variables are used to store and manage data. You can name a variable almost anything you like. For example:\n",
        "\n",
        "```\n",
        "name = \"Alice\"\n",
        "age = 25\n",
        "```\n",
        "Here, we've stored a name and an age in variables.\n",
        "\n",
        "##3. Comments: Notes in Your Code\n",
        "\n",
        "Comments are helpful notes within your code to explain what it does. Use the # symbol for comments:\n",
        "\n",
        "```\n",
        "# This is a comment\n",
        "```\n",
        "\n",
        "##4. Data Types: Different Kinds of Data\n",
        "\n",
        "Python has various data types. Here are a few:\n",
        "\n",
        "`int`: Integers (e.g., 5, -2, 100)\n",
        "\n",
        "`float`: Floating-point numbers (e.g., 3.14, 0.5)\n",
        "\n",
        "`str`: Strings (text) enclosed in quotes (e.g., \"Hello\")\n",
        "\n",
        "`bool`: Boolean values (True or False)\n",
        "\n",
        "##5. Basic Operations: Math and Logic\n",
        "\n",
        "Python can perform various operations, such as addition, subtraction, and logical comparisons:\n",
        "\n",
        "```\n",
        "# Addition\n",
        "result = 5 + 3\n",
        "\n",
        "# Subtraction\n",
        "difference = 10 - 2\n",
        "\n",
        "# Logical comparison\n",
        "is_equal = (result == difference)\n",
        "```\n",
        "\n",
        "Here, we added, subtracted, and compared values.\n",
        "\n",
        "##6. Conditional Statements: Making Decisions\n",
        "\n",
        "You can use if statements to make decisions in your code:\n",
        "\n",
        "```\n",
        "age = 18\n",
        "\n",
        "if age >= 18:\n",
        "    print(\"You're an adult!\")\n",
        "else:\n",
        "    print(\"You're a minor.\")\n",
        "```\n",
        "The code checks if age is 18 or older.\n",
        "\n",
        "##7. Loops: Repeating Actions\n",
        "\n",
        "Loops let you repeat actions. A common loop is the for loop:\n",
        "\n",
        "```\n",
        "for i in range(5):\n",
        "    print(\"Count:\", i)\n",
        "```\n",
        "This loop will print \"Count: 0\" through \"Count: 4.\"\n",
        "\n",
        "##8. Functions: Reusable Code Blocks\n",
        "\n",
        "Functions are reusable pieces of code. You can define your own functions or use built-in ones:\n",
        "\n",
        "```\n",
        "def greet(name):\n",
        "    print(\"Hello, \" + name + \"!\")\n",
        "```\n",
        "Then, you can call the function like this: greet(\"Bob\").\n",
        "\n",
        "These fundamentals are the building blocks of Python. As you explore further, you'll discover many more concepts and libraries to help you code, solve problems, and create amazing applications. Python's simplicity and versatility make it a fantastic starting point for your coding journey.\n",
        "\n",
        "---"
      ],
      "metadata": {
        "id": "MBzvowgFAkg6"
      }
    },
    {
      "cell_type": "markdown",
      "source": [
        "#Coding Exercise: Calculate Your Age Category\n",
        "\n",
        "In this exercise, you will write a Python program in Google Colab to determine your age category based on your age. You'll use variables, conditions, and a function.\n",
        "\n",
        "##Instructions:\n",
        "\n",
        "Create a new code cell in your Colab notebook.\n",
        "Write a Python function called age_category that takes one argument, age, and returns a string indicating the age category:\n",
        "If age is less than 18, return \"You are a minor.\"\n",
        "If age is between 18 and 64 (inclusive), return \"You are an adult.\"\n",
        "If age is 65 or older, return \"You are a senior.\"\n",
        "Call the age_category function with different ages (e.g., 16, 30, 70) and print the result for each age.\n",
        "Test the function with various ages to make sure it correctly categorizes them.\n",
        "\n",
        "\n",
        "Example Code:"
      ],
      "metadata": {
        "id": "WGCCTes-Bkv2"
      }
    },
    {
      "cell_type": "code",
      "source": [
        "def age_category(age):\n",
        "    if age < 18:\n",
        "        return \"You are a minor.\"\n",
        "    elif 18 <= age <= 64:\n",
        "        return \"You are an adult.\"\n",
        "    else:\n",
        "        return \"You are a senior.\"\n",
        "\n",
        "# Test the function\n",
        "print(age_category(16))  # Should print \"You are a minor.\"\n",
        "print(age_category(30))  # Should print \"You are an adult.\"\n",
        "print(age_category(70))  # Should print \"You are a senior.\""
      ],
      "metadata": {
        "id": "h53uPiyYBsOP",
        "colab": {
          "base_uri": "https://localhost:8080/"
        },
        "outputId": "0e5dae0a-e6d6-4c9e-93ff-80fcf27e458a"
      },
      "execution_count": null,
      "outputs": [
        {
          "output_type": "stream",
          "name": "stdout",
          "text": [
            "You are a minor.\n",
            "You are an adult.\n",
            "You are a senior.\n"
          ]
        }
      ]
    },
    {
      "cell_type": "markdown",
      "source": [
        "By completing this exercise, you'll reinforce your understanding of Python's basic concepts and the practical use of Google Colab.\n",
        "\n",
        "---"
      ],
      "metadata": {
        "id": "P1prh1PrBtwZ"
      }
    },
    {
      "cell_type": "markdown",
      "source": [
        "#Copying and Using the Colab Notebook\n",
        "\n",
        "For many of our code-along sessions, you'll want to make a copy of a notebook, so you can work on your own. To make use of this Colab notebook for yourself, follow these steps:\n",
        "\n",
        "1. Open the Notebook: Click the link to open the Colab notebook shared with you.\n",
        "2. Sign in to Google: If you're not already signed in, you'll need to log in with your Google account.\n",
        "3. Create a Copy:\n",
        "Once you're in the notebook, click on \"File\" in the top-left corner.\n",
        "Select \"Save a copy in Drive\" to create your own copy of the notebook. This ensures you have an editable version stored in your Google Drive.\n",
        "4. Access Your Copy:\n",
        "Your copy of the notebook will open in a new tab. You can now make changes to it.\n",
        "5. Run the Code:\n",
        "You can run the code cells by clicking the Play button (▶) or by using the Shift+Enter keyboard shortcut. Modify the code, experiment with different ages, and see how the age_category function works.\n",
        "6. Save Your Changes:\n",
        "Google Colab automatically saves your progress in your Google Drive.\n",
        "7. Share with Others:\n",
        "If you want to share your modified notebook with others, click the \"Share\" button in the top-right corner. You can generate a shareable link or add collaborators.\n",
        "\n",
        "That's it! You now have your own copy of the Colab notebook, and you can use it to explore Python and practice coding exercises. It's a convenient way to experiment and learn in a cloud-based environment."
      ],
      "metadata": {
        "id": "JlXnNE8bCI8F"
      }
    },
    {
      "cell_type": "markdown",
      "source": [
        "\n",
        "\n",
        "---\n",
        "\n",
        "---"
      ],
      "metadata": {
        "id": "uiot_4aiSvrO"
      }
    },
    {
      "cell_type": "markdown",
      "source": [
        "#Before you leave: prepare for awesomeness\n",
        "\n",
        "Let's get these basics applied for some practical use. In the next thirty minutes, we will use these principles to create a three-in-a-row game that you can play right in this Colab. Let's go.\n",
        "\n",
        "Our final game should have the following structure:"
      ],
      "metadata": {
        "id": "hhMS8C-1RyFU"
      }
    },
    {
      "cell_type": "code",
      "source": [
        "def initialize_board():\n",
        "    # Code to initialize the game board\n",
        "\n",
        "def display_board(board):\n",
        "    # Code to display the game board\n",
        "\n",
        "def player_move(board, player):\n",
        "    # Code for player's move\n",
        "\n",
        "def check_win(board):\n",
        "    # Code to check win condition\n",
        "\n",
        "def game():\n",
        "    board = initialize_board()\n",
        "    current_player = \"X\"\n",
        "\n",
        "    while not check_win(board):\n",
        "        display_board(board)\n",
        "        player_move(board, current_player)\n",
        "        current_player = \"O\" if current_player == \"X\" else \"X\"\n",
        "\n",
        "    display_board(board)\n",
        "    print(\"Game Over!\")\n",
        "\n",
        "game()"
      ],
      "metadata": {
        "id": "Ou-BdD7DTHcK"
      },
      "execution_count": null,
      "outputs": []
    },
    {
      "cell_type": "markdown",
      "source": [
        "##Theoretical Considerations\n",
        "\n",
        "1. Introduction\n",
        "Text Cell:\n",
        "\n",
        "Welcome to this Python tutorial! Python is a versatile and widely-used programming language, known for its readability and efficiency. In this tutorial, you'll learn Python basics by creating a \"Three in a Row\" game. This classic game is a great way to understand fundamental programming concepts.\n",
        "2. Python Basics\n",
        "Text Cell (Variables and Data Types):\n",
        "\n",
        "Think of a variable as a labeled jar where you can store data. For example, score = 10 creates a variable named score and puts the number 10 in it.\n",
        "Python has different types of data: numbers (integers and floats), text (strings), and booleans (True or False)."
      ],
      "metadata": {
        "id": "ncbAQW18TJE4"
      }
    },
    {
      "cell_type": "code",
      "source": [
        "# Example of variables\n",
        "name = \"Player 1\"  # This is a string\n",
        "score = 0          # This is an integer\n",
        "game_active = True # This is a boolean"
      ],
      "metadata": {
        "id": "dhDQqtJASHVD"
      },
      "execution_count": null,
      "outputs": []
    },
    {
      "cell_type": "markdown",
      "source": [
        "Text Cell (Operators):\n",
        "\n",
        "Operators are symbols that perform operations on variables. For example, + adds two numbers, == checks if two things are equal.\n",
        "3. Control Structures\n",
        "Text Cell (Conditional Statements):\n",
        "\n",
        "if statements let your program make decisions. Imagine deciding what to wear: if it's raining, wear a raincoat. Otherwise, wear sunglasses."
      ],
      "metadata": {
        "id": "M8mfrrcWSKXR"
      }
    },
    {
      "cell_type": "code",
      "source": [
        "weather = \"rainy\"\n",
        "if weather == \"rainy\":\n",
        "    print(\"Wear a raincoat\")\n",
        "else:\n",
        "    print(\"Wear sunglasses\")"
      ],
      "metadata": {
        "id": "N4PYF7CYSO8h"
      },
      "execution_count": null,
      "outputs": []
    },
    {
      "cell_type": "markdown",
      "source": [
        "Text Cell (Loops):\n",
        "\n",
        "Loops repeat actions. A while loop continues as long as a condition is True. A for loop repeats an action a specific number of times.\n",
        "4. Functions\n",
        "Text Cell:\n",
        "\n",
        "Functions are like recipes. They take some ingredients (inputs), do something, and give back a result. Let's create a simple function that adds two numbers."
      ],
      "metadata": {
        "id": "GGGecZeOSRVc"
      }
    },
    {
      "cell_type": "code",
      "source": [
        "def add_numbers(number1, number2):\n",
        "    return number1 + number2\n",
        "\n",
        "result = add_numbers(5, 3)\n",
        "print(result)  # Output: 8"
      ],
      "metadata": {
        "id": "hpPFeuMASRDB"
      },
      "execution_count": null,
      "outputs": []
    },
    {
      "cell_type": "markdown",
      "source": [
        "5. Data Structures\n",
        "Text Cell (Lists):\n",
        "\n",
        "A list is like a shopping list. It's a collection of items in a specific order. You can add items, remove items, or find out what's in the third position."
      ],
      "metadata": {
        "id": "135NzEe4SYVv"
      }
    },
    {
      "cell_type": "code",
      "source": [
        "shopping_list = [\"apples\", \"bananas\", \"carrots\"]\n",
        "print(shopping_list[2])  # Output: carrots"
      ],
      "metadata": {
        "id": "4Ey4MEHTSZlF"
      },
      "execution_count": null,
      "outputs": []
    },
    {
      "cell_type": "markdown",
      "source": [
        "6. Creating the \"Three in a Row\" Game\n",
        "Text Cell (Setting Up the Game Board):\n",
        "\n",
        "We'll use a list of lists to create our game board. Each inner list represents a row."
      ],
      "metadata": {
        "id": "75VRU2tFSbpZ"
      }
    },
    {
      "cell_type": "code",
      "source": [
        "def initialize_board():\n",
        "    return [[\"-\", \"-\", \"-\"] for _ in range(3)]\n",
        "\n",
        "board = initialize_board()"
      ],
      "metadata": {
        "id": "sLpxAyhiSeUi"
      },
      "execution_count": null,
      "outputs": []
    },
    {
      "cell_type": "markdown",
      "source": [
        "Text Cell (Game Mechanics):\n",
        "\n",
        "Let's write functions to handle player moves and check for a win."
      ],
      "metadata": {
        "id": "o75fNjGISnW6"
      }
    },
    {
      "cell_type": "code",
      "source": [
        "def display_board(board):\n",
        "    for row in board:\n",
        "        print(\" \".join(row))\n",
        "\n",
        "def player_move(board, row, col, player):\n",
        "    if board[row][col] == \"-\":\n",
        "        board[row][col] = player\n",
        "        return True\n",
        "    return False\n",
        "\n",
        "def check_win(board):\n",
        "    # Add code to check rows, columns, and diagonals for a win\n",
        "    return False  # Placeholder"
      ],
      "metadata": {
        "id": "9Fa2gU2xSpoA"
      },
      "execution_count": null,
      "outputs": []
    },
    {
      "cell_type": "markdown",
      "source": [
        "7. Testing and Debugging\n",
        "Text Cell:\n",
        "\n",
        "Testing is trying your code to see if it works as expected. Debugging is fixing it when it doesn't. Remember, making mistakes is a normal part of learning!\n",
        "8. Exercises for Expansion\n",
        "Exercise 1:\n",
        "\n",
        "Customize the check_win function to correctly identify a winner.\n",
        "Exercise 2:\n",
        "\n",
        "Implement a feature to let players choose their symbols (X or O).\n",
        "Exercise 3:\n",
        "\n",
        "Add a score tracker that keeps scores over multiple games.\n",
        "9. Conclusion\n",
        "Text Cell:\n",
        "\n",
        "Congratulations on completing this tutorial and building your \"Three in a Row\" game! You've learned fundamental Python concepts that form the foundation of programming. Keep experimenting and exploring!"
      ],
      "metadata": {
        "id": "qjLAzX0MStrl"
      }
    },
    {
      "cell_type": "markdown",
      "source": [
        "##Finished game"
      ],
      "metadata": {
        "id": "8GP3yyFZTVaN"
      }
    },
    {
      "cell_type": "code",
      "source": [
        "# Function to initialize the game board\n",
        "def initialize_board():\n",
        "    return [[\"-\", \"-\", \"-\"] for _ in range(3)]\n",
        "\n",
        "# Function to display the game board\n",
        "def display_board(board):\n",
        "    for row in board:\n",
        "        print(\" \".join(row))\n",
        "\n",
        "# Function to check if a move is valid\n",
        "def is_valid_move(board, row, col):\n",
        "    return board[row][col] == \"-\"\n",
        "\n",
        "# Function for a player's move\n",
        "def player_move(board, player):\n",
        "    while True:\n",
        "        row = int(input(f\"{player}'s turn. Enter row (0-2): \"))\n",
        "        col = int(input(f\"{player}'s turn. Enter column (0-2): \"))\n",
        "        if is_valid_move(board, row, col):\n",
        "            board[row][col] = player\n",
        "            break\n",
        "        else:\n",
        "            print(\"Invalid move, try again.\")\n",
        "\n",
        "# Function to check for a win or tie\n",
        "def check_game_status(board):\n",
        "    # Check rows, columns, and diagonals for a win\n",
        "    for i in range(3):\n",
        "        if board[i][0] == board[i][1] == board[i][2] != \"-\":\n",
        "            return board[i][0] + \" wins!\"\n",
        "        if board[0][i] == board[1][i] == board[2][i] != \"-\":\n",
        "            return board[0][i] + \" wins!\"\n",
        "\n",
        "    if board[0][0] == board[1][1] == board[2][2] != \"-\":\n",
        "        return board[0][0] + \" wins!\"\n",
        "    if board[0][2] == board[1][1] == board[2][0] != \"-\":\n",
        "        return board[0][2] + \" wins!\"\n",
        "\n",
        "    # Check for a tie\n",
        "    if all(board[row][col] != \"-\" for row in range(3) for col in range(3)):\n",
        "        return \"It's a tie!\"\n",
        "\n",
        "    return None\n",
        "\n",
        "# Main function to run the game\n",
        "def play_game():\n",
        "    board = initialize_board()\n",
        "    current_player = \"X\"\n",
        "\n",
        "    while True:\n",
        "        display_board(board)\n",
        "        player_move(board, current_player)\n",
        "        game_status = check_game_status(board)\n",
        "        if game_status:\n",
        "            display_board(board)\n",
        "            print(game_status)\n",
        "            break\n",
        "        current_player = \"O\" if current_player == \"X\" else \"X\"\n",
        "\n",
        "# Start the game\n",
        "play_game()"
      ],
      "metadata": {
        "colab": {
          "base_uri": "https://localhost:8080/",
          "height": 487
        },
        "id": "Dua_HHhUTaYf",
        "outputId": "03f40b46-2d92-40ab-951f-1c1b8b7df86e"
      },
      "execution_count": null,
      "outputs": [
        {
          "output_type": "stream",
          "name": "stdout",
          "text": [
            "- - -\n",
            "- - -\n",
            "- - -\n",
            "X's turn. Enter row (0-2): 0\n",
            "X's turn. Enter column (0-2): 0\n",
            "X - -\n",
            "- - -\n",
            "- - -\n"
          ]
        },
        {
          "output_type": "error",
          "ename": "KeyboardInterrupt",
          "evalue": "ignored",
          "traceback": [
            "\u001b[0;31m---------------------------------------------------------------------------\u001b[0m",
            "\u001b[0;31mKeyboardInterrupt\u001b[0m                         Traceback (most recent call last)",
            "\u001b[0;32m<ipython-input-1-a21f73e8220f>\u001b[0m in \u001b[0;36m<cell line: 61>\u001b[0;34m()\u001b[0m\n\u001b[1;32m     59\u001b[0m \u001b[0;34m\u001b[0m\u001b[0m\n\u001b[1;32m     60\u001b[0m \u001b[0;31m# Start the game\u001b[0m\u001b[0;34m\u001b[0m\u001b[0;34m\u001b[0m\u001b[0m\n\u001b[0;32m---> 61\u001b[0;31m \u001b[0mplay_game\u001b[0m\u001b[0;34m(\u001b[0m\u001b[0;34m)\u001b[0m\u001b[0;34m\u001b[0m\u001b[0;34m\u001b[0m\u001b[0m\n\u001b[0m",
            "\u001b[0;32m<ipython-input-1-a21f73e8220f>\u001b[0m in \u001b[0;36mplay_game\u001b[0;34m()\u001b[0m\n\u001b[1;32m     50\u001b[0m     \u001b[0;32mwhile\u001b[0m \u001b[0;32mTrue\u001b[0m\u001b[0;34m:\u001b[0m\u001b[0;34m\u001b[0m\u001b[0;34m\u001b[0m\u001b[0m\n\u001b[1;32m     51\u001b[0m         \u001b[0mdisplay_board\u001b[0m\u001b[0;34m(\u001b[0m\u001b[0mboard\u001b[0m\u001b[0;34m)\u001b[0m\u001b[0;34m\u001b[0m\u001b[0;34m\u001b[0m\u001b[0m\n\u001b[0;32m---> 52\u001b[0;31m         \u001b[0mplayer_move\u001b[0m\u001b[0;34m(\u001b[0m\u001b[0mboard\u001b[0m\u001b[0;34m,\u001b[0m \u001b[0mcurrent_player\u001b[0m\u001b[0;34m)\u001b[0m\u001b[0;34m\u001b[0m\u001b[0;34m\u001b[0m\u001b[0m\n\u001b[0m\u001b[1;32m     53\u001b[0m         \u001b[0mgame_status\u001b[0m \u001b[0;34m=\u001b[0m \u001b[0mcheck_game_status\u001b[0m\u001b[0;34m(\u001b[0m\u001b[0mboard\u001b[0m\u001b[0;34m)\u001b[0m\u001b[0;34m\u001b[0m\u001b[0;34m\u001b[0m\u001b[0m\n\u001b[1;32m     54\u001b[0m         \u001b[0;32mif\u001b[0m \u001b[0mgame_status\u001b[0m\u001b[0;34m:\u001b[0m\u001b[0;34m\u001b[0m\u001b[0;34m\u001b[0m\u001b[0m\n",
            "\u001b[0;32m<ipython-input-1-a21f73e8220f>\u001b[0m in \u001b[0;36mplayer_move\u001b[0;34m(board, player)\u001b[0m\n\u001b[1;32m     15\u001b[0m \u001b[0;32mdef\u001b[0m \u001b[0mplayer_move\u001b[0m\u001b[0;34m(\u001b[0m\u001b[0mboard\u001b[0m\u001b[0;34m,\u001b[0m \u001b[0mplayer\u001b[0m\u001b[0;34m)\u001b[0m\u001b[0;34m:\u001b[0m\u001b[0;34m\u001b[0m\u001b[0;34m\u001b[0m\u001b[0m\n\u001b[1;32m     16\u001b[0m     \u001b[0;32mwhile\u001b[0m \u001b[0;32mTrue\u001b[0m\u001b[0;34m:\u001b[0m\u001b[0;34m\u001b[0m\u001b[0;34m\u001b[0m\u001b[0m\n\u001b[0;32m---> 17\u001b[0;31m         \u001b[0mrow\u001b[0m \u001b[0;34m=\u001b[0m \u001b[0mint\u001b[0m\u001b[0;34m(\u001b[0m\u001b[0minput\u001b[0m\u001b[0;34m(\u001b[0m\u001b[0;34mf\"{player}'s turn. Enter row (0-2): \"\u001b[0m\u001b[0;34m)\u001b[0m\u001b[0;34m)\u001b[0m\u001b[0;34m\u001b[0m\u001b[0;34m\u001b[0m\u001b[0m\n\u001b[0m\u001b[1;32m     18\u001b[0m         \u001b[0mcol\u001b[0m \u001b[0;34m=\u001b[0m \u001b[0mint\u001b[0m\u001b[0;34m(\u001b[0m\u001b[0minput\u001b[0m\u001b[0;34m(\u001b[0m\u001b[0;34mf\"{player}'s turn. Enter column (0-2): \"\u001b[0m\u001b[0;34m)\u001b[0m\u001b[0;34m)\u001b[0m\u001b[0;34m\u001b[0m\u001b[0;34m\u001b[0m\u001b[0m\n\u001b[1;32m     19\u001b[0m         \u001b[0;32mif\u001b[0m \u001b[0mis_valid_move\u001b[0m\u001b[0;34m(\u001b[0m\u001b[0mboard\u001b[0m\u001b[0;34m,\u001b[0m \u001b[0mrow\u001b[0m\u001b[0;34m,\u001b[0m \u001b[0mcol\u001b[0m\u001b[0;34m)\u001b[0m\u001b[0;34m:\u001b[0m\u001b[0;34m\u001b[0m\u001b[0;34m\u001b[0m\u001b[0m\n",
            "\u001b[0;32m/usr/local/lib/python3.10/dist-packages/ipykernel/kernelbase.py\u001b[0m in \u001b[0;36mraw_input\u001b[0;34m(self, prompt)\u001b[0m\n\u001b[1;32m    849\u001b[0m                 \u001b[0;34m\"raw_input was called, but this frontend does not support input requests.\"\u001b[0m\u001b[0;34m\u001b[0m\u001b[0;34m\u001b[0m\u001b[0m\n\u001b[1;32m    850\u001b[0m             )\n\u001b[0;32m--> 851\u001b[0;31m         return self._input_request(str(prompt),\n\u001b[0m\u001b[1;32m    852\u001b[0m             \u001b[0mself\u001b[0m\u001b[0;34m.\u001b[0m\u001b[0m_parent_ident\u001b[0m\u001b[0;34m,\u001b[0m\u001b[0;34m\u001b[0m\u001b[0;34m\u001b[0m\u001b[0m\n\u001b[1;32m    853\u001b[0m             \u001b[0mself\u001b[0m\u001b[0;34m.\u001b[0m\u001b[0m_parent_header\u001b[0m\u001b[0;34m,\u001b[0m\u001b[0;34m\u001b[0m\u001b[0;34m\u001b[0m\u001b[0m\n",
            "\u001b[0;32m/usr/local/lib/python3.10/dist-packages/ipykernel/kernelbase.py\u001b[0m in \u001b[0;36m_input_request\u001b[0;34m(self, prompt, ident, parent, password)\u001b[0m\n\u001b[1;32m    893\u001b[0m             \u001b[0;32mexcept\u001b[0m \u001b[0mKeyboardInterrupt\u001b[0m\u001b[0;34m:\u001b[0m\u001b[0;34m\u001b[0m\u001b[0;34m\u001b[0m\u001b[0m\n\u001b[1;32m    894\u001b[0m                 \u001b[0;31m# re-raise KeyboardInterrupt, to truncate traceback\u001b[0m\u001b[0;34m\u001b[0m\u001b[0;34m\u001b[0m\u001b[0m\n\u001b[0;32m--> 895\u001b[0;31m                 \u001b[0;32mraise\u001b[0m \u001b[0mKeyboardInterrupt\u001b[0m\u001b[0;34m(\u001b[0m\u001b[0;34m\"Interrupted by user\"\u001b[0m\u001b[0;34m)\u001b[0m \u001b[0;32mfrom\u001b[0m \u001b[0;32mNone\u001b[0m\u001b[0;34m\u001b[0m\u001b[0;34m\u001b[0m\u001b[0m\n\u001b[0m\u001b[1;32m    896\u001b[0m             \u001b[0;32mexcept\u001b[0m \u001b[0mException\u001b[0m \u001b[0;32mas\u001b[0m \u001b[0me\u001b[0m\u001b[0;34m:\u001b[0m\u001b[0;34m\u001b[0m\u001b[0;34m\u001b[0m\u001b[0m\n\u001b[1;32m    897\u001b[0m                 \u001b[0mself\u001b[0m\u001b[0;34m.\u001b[0m\u001b[0mlog\u001b[0m\u001b[0;34m.\u001b[0m\u001b[0mwarning\u001b[0m\u001b[0;34m(\u001b[0m\u001b[0;34m\"Invalid Message:\"\u001b[0m\u001b[0;34m,\u001b[0m \u001b[0mexc_info\u001b[0m\u001b[0;34m=\u001b[0m\u001b[0;32mTrue\u001b[0m\u001b[0;34m)\u001b[0m\u001b[0;34m\u001b[0m\u001b[0;34m\u001b[0m\u001b[0m\n",
            "\u001b[0;31mKeyboardInterrupt\u001b[0m: Interrupted by user"
          ]
        }
      ]
    },
    {
      "cell_type": "markdown",
      "source": [
        "##Explanation of the Game Code:\n",
        "1. Initialize the Board:\n",
        "The initialize_board function creates a 3x3 board using a list of lists, filled with \"-\" to denote empty spaces.\n",
        "2. Display the Board:\n",
        "display_board prints the current state of the game board.\n",
        "3. Validating Moves:\n",
        "is_valid_move checks if the chosen cell is empty, ensuring valid moves.\n",
        "4. Player Move:\n",
        "player_move takes player input for row and column, checks for validity, and updates the board.\n",
        "5. Check Game Status:\n",
        "check_game_status checks all rows, columns, and diagonals for a win condition, and also checks for a tie.\n",
        "6. Play Game:\n",
        "The play_game function manages the game loop, alternating between players and checking the game status after each move.\n",
        "7. Starting the Game:\n",
        "Finally, play_game() is called to start the game."
      ],
      "metadata": {
        "id": "0QN2EctTTeaH"
      }
    },
    {
      "cell_type": "markdown",
      "source": [
        "##Making it your game and getting fancy\n",
        "\n",
        "Adding more advanced features to the \"Three in a Row\" game not only makes it more interesting but also provides an excellent opportunity for students to delve deeper into Python and explore new concepts. Here are some ideas for additional features, along with hints and initial code snippets to guide their implementation:\n",
        "\n",
        "1. Computer Opponent (Artificial Intelligence)\n",
        "Idea: Implement a simple AI for the game, allowing a player to play against the computer.\n",
        "\n",
        "Advanced Concepts: Basic AI algorithms, decision making.\n",
        "\n",
        "Hints and Snippet:\n",
        "\n",
        "Use the random module for random moves or implement a basic strategy (like blocking player moves).\n",
        "Start with random moves and gradually add more intelligence."
      ],
      "metadata": {
        "id": "6wwCyJOCU4o4"
      }
    },
    {
      "cell_type": "code",
      "source": [
        "import random\n",
        "\n",
        "def computer_move(board, player):\n",
        "    empty_cells = [(i, j) for i in range(3) for j in range(3) if board[i][j] == \"-\"]\n",
        "    row, col = random.choice(empty_cells)\n",
        "    board[row][col] = player\n"
      ],
      "metadata": {
        "id": "35OoHUbsUuor"
      },
      "execution_count": null,
      "outputs": []
    },
    {
      "cell_type": "markdown",
      "source": [
        "2. Pushing Wins to Twitter via API\n",
        "Idea: Post a message to Twitter whenever someone wins a game.\n",
        "\n",
        "Advanced Concepts: Working with APIs, using external libraries.\n",
        "\n",
        "Hints and Snippet:\n",
        "\n",
        "Use the tweepy library to interact with the Twitter API.\n",
        "Students will need to set up Twitter API credentials."
      ],
      "metadata": {
        "id": "PlurSZKBU7U9"
      }
    },
    {
      "cell_type": "code",
      "source": [
        "import tweepy\n",
        "\n",
        "def post_to_twitter(message):\n",
        "    auth = tweepy.OAuthHandler(\"CONSUMER_KEY\", \"CONSUMER_SECRET\")\n",
        "    auth.set_access_token(\"ACCESS_TOKEN\", \"ACCESS_TOKEN_SECRET\")\n",
        "    api = tweepy.API(auth)\n",
        "    api.update_status(message)"
      ],
      "metadata": {
        "id": "2iyM7KyJU-Hp"
      },
      "execution_count": null,
      "outputs": []
    },
    {
      "cell_type": "markdown",
      "source": [
        "3. Saving Game Statistics\n",
        "Idea: Record and save game statistics (like wins, losses, and ties) to a file.\n",
        "\n",
        "Advanced Concepts: File handling, data persistence.\n",
        "\n",
        "Hints and Snippet:\n",
        "\n",
        "Use Python's file handling capabilities to write game results to a text or CSV file."
      ],
      "metadata": {
        "id": "ljNQirVPVAOC"
      }
    },
    {
      "cell_type": "code",
      "source": [
        "def save_game_stats(stats):\n",
        "    with open(\"game_stats.txt\", \"a\") as file:\n",
        "        file.write(f\"{stats}\\n\")"
      ],
      "metadata": {
        "id": "9bjCe15ZVC-o"
      },
      "execution_count": null,
      "outputs": []
    },
    {
      "cell_type": "markdown",
      "source": [
        "4. Graphical User Interface (GUI)\n",
        "Idea: Create a GUI for the game using a library like Tkinter.\n",
        "\n",
        "Advanced Concepts: GUI programming, event-driven programming.\n",
        "\n",
        "Hints and Snippet:\n",
        "\n",
        "Start by creating a basic window and buttons for each cell of the game board."
      ],
      "metadata": {
        "id": "gkmTzGGnVFbG"
      }
    },
    {
      "cell_type": "code",
      "source": [
        "import tkinter as tk\n",
        "\n",
        "def create_game_window():\n",
        "    window = tk.Tk()\n",
        "    window.title(\"Three in a Row\")\n",
        "    # Add buttons and widgets here\n",
        "    window.mainloop()"
      ],
      "metadata": {
        "id": "AfOboQ7aVIsC"
      },
      "execution_count": null,
      "outputs": []
    },
    {
      "cell_type": "markdown",
      "source": [
        "5. Multiplayer Over the Network\n",
        "Idea: Enable two players to play against each other over the network.\n",
        "\n",
        "Advanced Concepts: Network programming, client-server architecture.\n",
        "\n",
        "Hints and Snippet:\n",
        "\n",
        "Use the socket library to create a simple client-server application."
      ],
      "metadata": {
        "id": "ECdCTBkKVKy6"
      }
    },
    {
      "cell_type": "code",
      "source": [
        "import socket\n",
        "\n",
        "def create_server():\n",
        "    server = socket.socket(socket.AF_INET, socket.SOCK_STREAM)\n",
        "    server.bind(('localhost', 12345))\n",
        "    server.listen()\n",
        "    # Handle connections and game logic"
      ],
      "metadata": {
        "id": "kB5em2pQVN3A"
      },
      "execution_count": null,
      "outputs": []
    },
    {
      "cell_type": "markdown",
      "source": [
        "6. Adding Sound Effects\n",
        "Idea: Play sound effects for game events like a win, loss, or invalid move.\n",
        "\n",
        "Advanced Concepts: Working with audio, external libraries.\n",
        "\n",
        "Hints and Snippet:\n",
        "\n",
        "Use the pygame library to handle and play sound effects."
      ],
      "metadata": {
        "id": "JZ3EgEf0VRgo"
      }
    },
    {
      "cell_type": "code",
      "source": [
        "import pygame\n",
        "\n",
        "pygame.init()\n",
        "win_sound = pygame.mixer.Sound(\"win_sound.wav\")\n",
        "\n",
        "def play_win_sound():\n",
        "    win_sound.play()"
      ],
      "metadata": {
        "id": "mrlZhhHrVSkU"
      },
      "execution_count": null,
      "outputs": []
    },
    {
      "cell_type": "markdown",
      "source": [
        "---\n",
        "---"
      ],
      "metadata": {
        "id": "4SgBZ8YxVWRC"
      }
    },
    {
      "cell_type": "markdown",
      "source": [
        "#Becoming an engineer: Cleaning up and managing operations\n",
        "\n",
        "A large part of a developers life is debugging as you might have already noticed. Another very large part is keeping code organized and clean. This is reffered as DevOps. It helps you to keep your code managable and easy to maintain. Writing all code into one single, locally stored script for example will be a nightmare for future you. Luckily there are a few very simple techniques you can learn and should apply yourself from day one - even with teaching projects like these - to make your life easier."
      ],
      "metadata": {
        "id": "VkZ8EihkVZt6"
      }
    },
    {
      "cell_type": "markdown",
      "source": [
        "##Setting Up Git and GitHub for Your Project\n",
        "1. Create a GitHub Account and Repository:\n",
        "Sign up for a free account at GitHub.\n",
        "Create a new repository for your \"Three in a Row\" game. Give it a meaningful name, like three-in-a-row-python.\n",
        "2. Install Git:\n",
        "Download and install Git from git-scm.com.\n",
        "Set up your user name and email in Git:"
      ],
      "metadata": {
        "id": "_tlB-asKWdWT"
      }
    },
    {
      "cell_type": "code",
      "source": [
        "git config --global user.name \"Your Name\"\n",
        "git config --global user.email \"your_email@example.com\""
      ],
      "metadata": {
        "id": "RysSTa_SWipb"
      },
      "execution_count": null,
      "outputs": []
    },
    {
      "cell_type": "markdown",
      "source": [
        "3. Clone Your Repository:\n",
        "Copy the URL of your new GitHub repository.\n",
        "Clone it to your local machine:"
      ],
      "metadata": {
        "id": "g0w4sPHnWiVU"
      }
    },
    {
      "cell_type": "code",
      "source": [
        "git clone [URL of your GitHub repo]"
      ],
      "metadata": {
        "id": "8o1lFKDdWouM"
      },
      "execution_count": null,
      "outputs": []
    },
    {
      "cell_type": "markdown",
      "source": [
        "4. Add Your Project to the Repository:\n",
        "Move your \"Three in a Row\" game files into the cloned repository folder.\n",
        "Use the following Git commands to push them to GitHub:"
      ],
      "metadata": {
        "id": "15nCjhoTWqQa"
      }
    },
    {
      "cell_type": "code",
      "source": [
        "git add .\n",
        "git commit -m \"Initial commit of Three in a Row game\"\n",
        "git push origin main"
      ],
      "metadata": {
        "id": "xuChi74SWt0U"
      },
      "execution_count": null,
      "outputs": []
    },
    {
      "cell_type": "markdown",
      "source": [
        "##Regularly Committing Changes\n",
        "- Make Changes: As you improve your game, regularly commit these changes. This might include bug fixes, adding new features, or refactoring code.\n",
        "- Commit Often: Use the following commands:"
      ],
      "metadata": {
        "id": "vEJvVV1sWxdI"
      }
    },
    {
      "cell_type": "code",
      "source": [
        "git add [file-name]\n",
        "git commit -m \"A descriptive message about the change\"\n",
        "git push origin main"
      ],
      "metadata": {
        "id": "JESkHf3ZW6lM"
      },
      "execution_count": null,
      "outputs": []
    },
    {
      "cell_type": "markdown",
      "source": [
        "##Branching and Pull Requests\n",
        "- Create a New Branch: Before adding a major feature (like AI opponent), create a new branch:"
      ],
      "metadata": {
        "id": "wbI2OVvqW901"
      }
    },
    {
      "cell_type": "code",
      "source": [
        "git checkout -b feature-ai-opponent"
      ],
      "metadata": {
        "id": "d1yFHsIuXRX8"
      },
      "execution_count": null,
      "outputs": []
    },
    {
      "cell_type": "markdown",
      "source": [
        "- Merge Branch: Once you're happy with the feature:"
      ],
      "metadata": {
        "id": "UX_b9xARXCwq"
      }
    },
    {
      "cell_type": "code",
      "source": [
        "git checkout main\n",
        "git merge feature-ai-opponent\n",
        "git push origin main"
      ],
      "metadata": {
        "id": "549KJC2TXTVf"
      },
      "execution_count": null,
      "outputs": []
    },
    {
      "cell_type": "markdown",
      "source": [
        "- Pull Requests: If working in a team, use pull requests on GitHub to review and merge these changes."
      ],
      "metadata": {
        "id": "rqGKRa4XXEuT"
      }
    },
    {
      "cell_type": "markdown",
      "source": [
        "##Using GitHub Actions for Automated Testing\n",
        "- Set up GitHub Actions: Create a .github/workflows directory in your repository.\n",
        "- Add a Workflow File: Create a new file, like python-app.yml, and set up actions to install Python, install dependencies, and run tests.\n",
        "##Adding a README and Documenting Your Code\n",
        "- Create a README.md File: Document how to install, run, and contribute to your game.\n",
        "- Comment Your Code: Ensure your code is well-commented to make it understandable to others.\n",
        "##Example README Outline"
      ],
      "metadata": {
        "id": "mQjO_QvWXKbs"
      }
    },
    {
      "cell_type": "code",
      "source": [
        "# Three in a Row Game\n",
        "\n",
        "## Introduction\n",
        "A simple Python implementation of the classic \"Three in a Row\" game.\n",
        "\n",
        "## Installation\n",
        "Instructions on how to clone and run the game.\n",
        "\n",
        "## How to Play\n",
        "Explain the game rules and how to interact with the game.\n",
        "\n",
        "## Contributing\n",
        "Guidelines for contributing to the project.\n",
        "\n",
        "## License\n",
        "Include a license if applicable."
      ],
      "metadata": {
        "id": "S3PX5_gPXcG9"
      },
      "execution_count": null,
      "outputs": []
    },
    {
      "cell_type": "markdown",
      "source": [
        "By following these steps, students will learn not only how to develop a Python game but also how to use essential tools like Git and GitHub, preparing them for collaborative software development in a real-world environment. This hands-on approach is crucial in developing both programming and DevOps skills."
      ],
      "metadata": {
        "id": "laviAdWIXhm2"
      }
    }
  ]
}