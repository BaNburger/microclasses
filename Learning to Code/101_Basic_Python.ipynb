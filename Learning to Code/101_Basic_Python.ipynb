{
 "cells": [
  {
   "cell_type": "markdown",
   "metadata": {},
   "source": [
    "# Welcome to Python Programming!\n",
    "Python is a powerful, easy-to-learn programming language that has wide applications ranging from simple automation scripts to complex machine learning algorithms. This notebook is designed to introduce you to the basics of Python programming, ensuring you understand the fundamental concepts and syntax required to start building your own Python projects."
   ]
  },
  {
   "cell_type": "markdown",
   "metadata": {},
   "source": [
    "## Getting Started with Python\n",
    "Python is renowned for its simplicity and readability, making it an excellent choice for beginners. Let's start by setting up your Python environment and learning how to write your first Python code.\n",
    "\n",
    "### Installing Python\n",
    "Visit the official Python website (https://www.python.org/) and download the latest version for your operating system. Follow the installation instructions to get Python running on your machine.\n",
    "\n",
    "### Setting up a Python Development Environment\n",
    "For beginners, we recommend starting with Jupyter Notebooks, which allow you to write and execute code in an interactive environment. Install Jupyter by running `pip install notebook` in your terminal or command prompt.\n",
    "\n",
    "### How to Use Jupyter Notebooks\n",
    "Open a terminal, and type `jupyter notebook` to start Jupyter. This will open the notebook interface in your web browser, where you can create new notebooks and write Python code in a structured format."
   ]
  },
  {
   "cell_type": "markdown",
   "metadata": {},
   "source": [
    "## Python Basics\n",
    "In this section, we'll explore variables, common data types, and basic operators. These are the building blocks of any Python program.\n",
    "\n",
    "### Variables and Data Types\n",
    "Python uses variables to store information. Here's how you can create variables and use different data types:\n",
    "\n",
    "```python\n",
    "# Creating variables\n",
    "age = 25  # An integer assignment\n",
    "name = \"Alice\"  # A string\n",
    "height = 5.5  # A floating-point number\n",
    "is_student = True  # A boolean value indicating a true condition"
   ]
  },
  {
   "cell_type": "markdown",
   "metadata": {},
   "source": [
    "## Python Basics\n",
    "In this section, we'll explore variables, common data types, and basic operators. These are the building blocks of any Python program.\n",
    "\n",
    "### Variables and Data Types\n",
    "Python uses variables to store information. Here's how you can create variables and use different data types:\n",
    "\n",
    "```python\n",
    "# Creating variables\n",
    "age = 25  # An integer assignment\n",
    "name = \"Alice\"  # A string\n",
    "height = 5.5  # A floating-point number\n",
    "is_student = True  # A boolean value indicating a true condition"
   ]
  },
  {
   "cell_type": "code",
   "execution_count": null,
   "metadata": {},
   "outputs": [],
   "source": [
    "# Arithmetic operators\n",
    "sum = 5 + 3  # Adds two integers\n",
    "product = 7 * 6  # Multiplies two integers\n",
    "\n",
    "# Comparison operators\n",
    "is_taller = height > 6  # Checks if height is greater than 6\n",
    "\n",
    "# Logical operators\n",
    "is_teenager = age > 13 and age < 20  # Checks if age is between 13 and 19"
   ]
  },
  {
   "cell_type": "markdown",
   "metadata": {},
   "source": [
    "## Control Structures\n",
    "Control structures allow you to dictate the flow of your program. Let's look at conditional statements and loops.\n",
    "\n",
    "### Conditional Statements\n",
    "Use `if`, `elif`, and `else` to make decisions in your code:"
   ]
  },
  {
   "cell_type": "code",
   "execution_count": null,
   "metadata": {},
   "outputs": [],
   "source": [
    "age = 25\n",
    "\n",
    "if age > 18:\n",
    "    print(\"You are an adult.\")\n",
    "elif age > 13:\n",
    "    print(\"You are a teenager.\")\n",
    "else:\n",
    "    print(\"You are a child.\")"
   ]
  },
  {
   "cell_type": "code",
   "execution_count": null,
   "metadata": {},
   "outputs": [],
   "source": [
    "# For loop\n",
    "for i in range(5):\n",
    "    print(i)\n",
    "\n",
    "# While loop\n",
    "count = 0\n",
    "while count < 5:\n",
    "    print(count)\n",
    "    count += 1"
   ]
  },
  {
   "cell_type": "markdown",
   "metadata": {},
   "source": [
    "## Functions\n",
    "Functions are reusable blocks of code that perform a specific task. Let's define a simple function.\n",
    "\n",
    "### Defining a Function\n",
    "Create a function that greets a user:"
   ]
  },
  {
   "cell_type": "code",
   "execution_count": null,
   "metadata": {},
   "outputs": [],
   "source": [
    "def greet(name):\n",
    "    return \"Hello \" + name + \"!\"\n",
    "\n",
    "greet(\"Alice\")"
   ]
  },
  {
   "cell_type": "markdown",
   "metadata": {},
   "source": [
    "## Practical Exercises\n",
    "To solidify your understanding, try these exercises:\n",
    "\n",
    "### Simple Calculator\n",
    "Implement a simple calculator that can add, subtract, multiply, and divide two numbers entered by the user.\n",
    "\n",
    "### Guess the Number Game\n",
    "Create a game where the program randomly selects a number and the user has to guess it. Provide feedback if the guess is too high, too low, or correct.\n",
    "\n",
    "### Basic List Operations\n",
    "Demonstrate creating a list, adding items, removing items, and iterating over the list with loops."
   ]
  },
  {
   "cell_type": "code",
   "execution_count": null,
   "metadata": {},
   "outputs": [],
   "source": [
    "# Your code goes here"
   ]
  },
  {
   "cell_type": "markdown",
   "metadata": {},
   "source": [
    "## Conclusion\n",
    "Congratulations on completing the first step in your Python programming journey! Continue practicing these concepts, and when ready, move on to the next notebook for more advanced topics."
   ]
  },
  {
   "cell_type": "markdown",
   "metadata": {},
   "source": [
    "# Advanced Exercises\n",
    "Play with these exercises until you feel you have a good understanding what the code does and you feel comfortable dajusting the code.\n",
    "\n",
    "Tip 1: Try to add functionality to each of the exercises\n",
    "\n",
    "Tip 2: Don't worry if you don't understand every element just yet"
   ]
  },
  {
   "cell_type": "code",
   "execution_count": null,
   "metadata": {},
   "outputs": [],
   "source": [
    "\"\"\"\n",
    "EXAMPLE 1: Simple Calculator\n",
    "\n",
    "The simple calculator exercise is a fundamental practice for understanding user input, handling data types, and performing basic arithmetic operations. Here’s how we can improve this exercise:\n",
    "\n",
    "Detailed Instructions: Provide step-by-step instructions on what functions to create (e.g., add, subtract, multiply, divide).\n",
    "\n",
    "Error Handling: Introduce basic error handling to manage non-numeric inputs or division by zero.\n",
    "\n",
    "Enhanced User Interaction: Offer options to continue calculations or exit after a result is displayed.\n",
    "\"\"\"\n",
    "\n",
    "def add(x, y):\n",
    "    return x + y\n",
    "\n",
    "def subtract(x, y):\n",
    "    return x - y\n",
    "\n",
    "def multiply(x, y):\n",
    "    return x * y\n",
    "\n",
    "def divide(x, y):\n",
    "    if y != 0:\n",
    "        return x / y\n",
    "    else:\n",
    "        return \"Error: Division by zero is not allowed.\"\n",
    "\n",
    "def calculator():\n",
    "    while True:\n",
    "        print(\"Options:\")\n",
    "        print(\"Enter 'add' to add two numbers\")\n",
    "        print(\"Enter 'subtract' to subtract two numbers\")\n",
    "        print(\"Enter 'multiply' to multiply two numbers\")\n",
    "        print(\"Enter 'divide' to divide two numbers\")\n",
    "        print(\"Enter 'quit' to end the program\")\n",
    "        user_input = input(\": \")\n",
    "\n",
    "        if user_input == \"quit\":\n",
    "            print(\"Thank you for using the calculator.\")\n",
    "            break\n",
    "        elif user_input in ('add', 'subtract', 'multiply', 'divide'):\n",
    "            x = float(input(\"Enter the first number: \"))\n",
    "            y = float(input(\"Enter the second number: \"))\n",
    "            if user_input == \"add\":\n",
    "                print(\"The result is\", add(x, y))\n",
    "            elif user_input == \"subtract\":\n",
    "                print(\"The result is\", subtract(x, y))\n",
    "            elif user_input == \"multiply\":\n",
    "                print(\"The result is\", multiply(x, y))\n",
    "            elif user_input == \"divide\":\n",
    "                print(\"The result is\", divide(x, y))\n",
    "        else:\n",
    "            print(\"Invalid input\")\n",
    "\n",
    "calculator()"
   ]
  },
  {
   "cell_type": "code",
   "execution_count": null,
   "metadata": {},
   "outputs": [],
   "source": [
    "\"\"\"\n",
    "EXAMPLE 2: Guess the Number Game\n",
    "\n",
    "This exercise is great for practicing loops, conditionals, and random number generation. Here’s how we can enhance it:\n",
    "\n",
    "Hints Based on Difference: Provide hints based on how far off the guess is (e.g., \"cold\" for far away, \"warm\" for closer).\n",
    "\n",
    "Limit Number of Guesses: Add a maximum number of allowed guesses for increased challenge.\n",
    "\"\"\"\n",
    "\n",
    "import random\n",
    "\n",
    "def guess_the_number():\n",
    "    number = random.randint(1, 100)\n",
    "    attempts = 0\n",
    "    print(\"Guess the number between 1 and 100. You have 10 attempts.\")\n",
    "\n",
    "    while attempts < 10:\n",
    "        guess = int(input(\"Enter your guess: \"))\n",
    "        attempts += 1\n",
    "        if guess < number:\n",
    "            print(\"Higher\")\n",
    "        elif guess > number:\n",
    "            print(\"Lower\")\n",
    "        else:\n",
    "            print(\"Congratulations! You guessed the number in\", attempts, \"attempts.\")\n",
    "            break\n",
    "    else:\n",
    "        print(\"Sorry, you did not guess the number. The number was\", number)\n",
    "\n",
    "guess_the_number()"
   ]
  },
  {
   "cell_type": "code",
   "execution_count": null,
   "metadata": {},
   "outputs": [],
   "source": [
    "\"\"\"\n",
    "EXAMPLE 3: Basic List Operations\n",
    "\n",
    "This exercise can introduce learners to manipulating lists. Here’s what can be enhanced:\n",
    "\n",
    "Dynamic List Operations: Allow users to choose what operation to perform (e.g., add, remove, display the list).\n",
    "\n",
    "Use of List Methods: Teach different methods like append(), remove(), and insert().\n",
    "\"\"\"\n",
    "\n",
    "def list_operations():\n",
    "    sample_list = []\n",
    "    while True:\n",
    "        print(\"Choose an operation: add, remove, show, or quit\")\n",
    "        operation = input(\"Enter operation: \")\n",
    "        if operation == \"quit\":\n",
    "            break\n",
    "        elif operation == \"add\":\n",
    "            item = input(\"Enter item to add: \")\n",
    "            sample_list.append(item)\n",
    "        elif operation == \"remove\":\n",
    "            item = input(\"Enter item to remove: \")\n",
    "            if item in sample_list:\n",
    "                sample_list.remove(item)\n",
    "            else:\n",
    "                print(\"Item not found in list.\")\n",
    "        elif operation == \"show\":\n",
    "            print(\"Current list:\", sample_list)\n",
    "        else:\n",
    "            print(\"Invalid operation.\")\n",
    "\n",
    "list_operations()"
   ]
  },
  {
   "cell_type": "markdown",
   "metadata": {},
   "source": [
    "### Why Python?\n",
    "Python is favored in many industries due to its readability, ease of use, and flexibility. It supports multiple programming paradigms, including procedural, object-oriented, and functional programming. Python's extensive libraries and frameworks make it applicable in various fields such as web development, data analysis, artificial intelligence, scientific computing, and more. Its community is one of the largest, providing vast resources and support for learners and professionals alike."
   ]
  },
  {
   "cell_type": "markdown",
   "metadata": {},
   "source": [
    "### Understanding Python Syntax and Semantics\n",
    "Python syntax is designed to be intuitive and close to human language, which often makes Python code highly readable and maintainable. Here are some key aspects:\n",
    "- **Indentation**: Unlike other programming languages that use braces to define blocks of code, Python uses indentation. This requirement helps maintain a clean, readable structure in your code.\n",
    "- **Dynamic Typing**: Python is dynamically typed, which means you don’t need to explicitly declare the type of a variable. This makes Python very flexible, but it also means you need to be aware of type errors.\n",
    "- **Interpreted Language**: Python code is executed line by line, which makes debugging easier but may affect performance. This characteristic is advantageous for beginners as it provides immediate feedback."
   ]
  },
  {
   "cell_type": "markdown",
   "metadata": {},
   "source": [
    "### Interactive Python with Jupyter Notebooks\n",
    "Jupyter Notebooks are an excellent tool for learning Python because they allow you to write, modify, and execute code in an interactive environment. They support mixing executable code with narrative text, equations, visualizations, and other rich media. This interactivity is ideal for experimenting with Python code, exploring data science workflows, and documenting while coding."
   ]
  },
  {
   "cell_type": "markdown",
   "metadata": {},
   "source": [
    "### Additional Resources for Further Learning\n",
    "To further your Python education, consider the following resources:\n",
    "- **Official Python Documentation** (https://docs.python.org/3/): Comprehensive resource that covers all Python functionalities.\n",
    "- **Automate the Boring Stuff with Python** by Al Sweigart: A great book for beginners looking to apply Python to everyday tasks.\n",
    "- **Python for Everybody** by Dr. Charles Severance: A series of courses that introduce fundamental programming concepts using Python.\n",
    "- **Kaggle** (https://www.kaggle.com/): For practicing data science and machine learning projects.\n",
    "- **Project Euler** (https://projecteuler.net/): Challenges that help improve your mathematical and programming skills."
   ]
  }
 ],
 "metadata": {
  "language_info": {
   "name": "python"
  }
 },
 "nbformat": 4,
 "nbformat_minor": 2
}
